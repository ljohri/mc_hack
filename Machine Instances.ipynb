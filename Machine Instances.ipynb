{
 "cells": [
  {
   "cell_type": "code",
   "execution_count": null,
   "id": "6f5c39d8-0d87-4286-9fee-cfb88c58feea",
   "metadata": {},
   "outputs": [],
   "source": [
    "import paho.mqtt.client as mqtt\n",
    "import time\n",
    "import random\n",
    "import json\n",
    "\n",
    "client = mqtt.Client()\n",
    "client.connect(\"localhost\", 1883, 60)\n",
    "\n",
    "machine_id = \"machine_01\"\n",
    "steps = {\n",
    "    \"step_1\": {\"mean\": 50, \"variance\": 5},\n",
    "    \"step_2\": {\"mean\": 30, \"variance\": 3},\n",
    "}\n",
    "\n",
    "while True:\n",
    "    for step, stats in steps.items():\n",
    "        measurement = random.gauss(stats[\"mean\"], stats[\"variance\"])\n",
    "        payload = json.dumps({\n",
    "            \"step_id\": step,\n",
    "            \"value\": measurement,\n",
    "            \"mean\": stats[\"mean\"],\n",
    "            \"variance\": stats[\"variance\"],\n",
    "            \"timestamp\": time.strftime('%Y-%m-%d %H:%M:%S')\n",
    "        })\n",
    "        topic = f\"factory/{machine_id}/{step}\"\n",
    "        client.publish(topic, payload)\n",
    "    time.sleep(2)\n"
   ]
  },
  {
   "cell_type": "code",
   "execution_count": null,
   "id": "79b79526-a154-45e2-9317-9637a7868858",
   "metadata": {},
   "outputs": [],
   "source": []
  }
 ],
 "metadata": {
  "kernelspec": {
   "display_name": "Python 3 (ipykernel)",
   "language": "python",
   "name": "python3"
  },
  "language_info": {
   "codemirror_mode": {
    "name": "ipython",
    "version": 3
   },
   "file_extension": ".py",
   "mimetype": "text/x-python",
   "name": "python",
   "nbconvert_exporter": "python",
   "pygments_lexer": "ipython3",
   "version": "3.9.20"
  }
 },
 "nbformat": 4,
 "nbformat_minor": 5
}
