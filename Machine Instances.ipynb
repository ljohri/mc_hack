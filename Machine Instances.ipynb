{
 "cells": [
  {
   "cell_type": "code",
   "execution_count": null,
   "id": "6f5c39d8-0d87-4286-9fee-cfb88c58feea",
   "metadata": {},
   "outputs": [],
   "source": [
    "import json\n",
    "import random\n",
    "import time\n",
    "import threading\n",
    "import paho.mqtt.client as mqtt\n",
    "\n",
    "# Load configuration\n",
    "with open(\"battery_machine_config.json\") as f:\n",
    "    machine_configs = json.load(f)\n",
    "\n",
    "# MQTT Setup\n",
    "mqtt_broker = \"localhost\"\n",
    "mqtt_port = 1883\n",
    "client = mqtt.Client()\n",
    "client.connect(mqtt_broker, mqtt_port, 60)\n",
    "\n",
    "def process_machine(machine):\n",
    "    machine_id = machine[\"machine_name\"]\n",
    "    while True:\n",
    "        print(f\"[{machine_id}] Starting cycle\")\n",
    "        for step in machine[\"steps\"]:\n",
    "            value = random.gauss(step[\"mean\"], step[\"variance\"])\n",
    "            payload = {\n",
    "                \"machine_id\": machine_id,\n",
    "                \"step_name\": step[\"step_name\"],\n",
    "                \"value\": value,\n",
    "                \"mean\": step[\"mean\"],\n",
    "                \"variance\": step[\"variance\"],\n",
    "                \"process_time_min\": step[\"process_time_min\"],\n",
    "                \"fatal_failure\": step[\"fatal_failure\"],\n",
    "                \"timestamp\": time.strftime('%Y-%m-%d %H:%M:%S')\n",
    "            }\n",
    "            topic = f\"factory/{machine_id}/{step['step_name']}\"\n",
    "            client.publish(topic, json.dumps(payload))\n",
    "            print(f\"[{machine_id}] Published to {topic}: {payload}\")\n",
    "            time.sleep(step[\"process_time_min\"] * 60)\n",
    "        print(f\"[{machine_id}] Cycle complete. Restarting...\\n\")\n",
    "\n",
    "# Start a thread for each machine\n",
    "for machine in machine_configs:\n",
    "    threading.Thread(target=process_machine, args=(machine,), daemon=True).start()\n",
    "\n",
    "# Keep the main thread alive\n",
    "while True:\n",
    "    time.sleep(60)\n"
   ]
  },
  {
   "cell_type": "code",
   "execution_count": null,
   "id": "79b79526-a154-45e2-9317-9637a7868858",
   "metadata": {},
   "outputs": [],
   "source": []
  }
 ],
 "metadata": {
  "kernelspec": {
   "display_name": "Python 3 (ipykernel)",
   "language": "python",
   "name": "python3"
  },
  "language_info": {
   "codemirror_mode": {
    "name": "ipython",
    "version": 3
   },
   "file_extension": ".py",
   "mimetype": "text/x-python",
   "name": "python",
   "nbconvert_exporter": "python",
   "pygments_lexer": "ipython3",
   "version": "3.9.20"
  }
 },
 "nbformat": 4,
 "nbformat_minor": 5
}
