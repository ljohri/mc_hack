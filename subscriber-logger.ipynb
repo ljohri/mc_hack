{
 "cells": [
  {
   "cell_type": "code",
   "execution_count": null,
   "id": "fae0bb63-d184-454f-a0fa-df6c396590af",
   "metadata": {},
   "outputs": [],
   "source": [
    "import sqlite3\n",
    "import paho.mqtt.client as mqtt\n",
    "import json\n",
    "\n",
    "machine_id = \"machine_01\"\n",
    "db = sqlite3.connect(f\"{machine_id}.db\")\n",
    "cur = db.cursor()\n",
    "cur.execute(\"\"\"\n",
    "CREATE TABLE IF NOT EXISTS measurements (\n",
    "    timestamp TEXT,\n",
    "    step_id TEXT,\n",
    "    value REAL,\n",
    "    mean REAL,\n",
    "    variance REAL\n",
    ");\n",
    "\"\"\")\n",
    "db.commit()\n",
    "\n",
    "def on_message(client, userdata, msg):\n",
    "    data = json.loads(msg.payload.decode())\n",
    "    cur.execute(\"INSERT INTO measurements VALUES (?, ?, ?, ?, ?)\", (\n",
    "        data[\"timestamp\"], data[\"step_id\"], data[\"value\"],\n",
    "        data[\"mean\"], data[\"variance\"]\n",
    "    ))\n",
    "    db.commit()\n",
    "\n",
    "client = mqtt.Client()\n",
    "client.on_message = on_message\n",
    "client.connect(\"localhost\", 1883, 60)\n",
    "client.subscribe(\"factory/machine_01/#\")\n",
    "client.loop_forever()\n"
   ]
  },
  {
   "cell_type": "code",
   "execution_count": null,
   "id": "649bd266-0b21-4af5-ad6d-072d44aaa39b",
   "metadata": {},
   "outputs": [],
   "source": []
  }
 ],
 "metadata": {
  "kernelspec": {
   "display_name": "Python 3 (ipykernel)",
   "language": "python",
   "name": "python3"
  },
  "language_info": {
   "codemirror_mode": {
    "name": "ipython",
    "version": 3
   },
   "file_extension": ".py",
   "mimetype": "text/x-python",
   "name": "python",
   "nbconvert_exporter": "python",
   "pygments_lexer": "ipython3",
   "version": "3.9.20"
  }
 },
 "nbformat": 4,
 "nbformat_minor": 5
}
