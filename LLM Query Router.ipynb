{
 "cells": [
  {
   "cell_type": "code",
   "execution_count": null,
   "id": "ed045a6c-bb72-44e3-b64a-065beb4e5623",
   "metadata": {},
   "outputs": [],
   "source": [
    "def extract_machine_id(nl_query):\n",
    "    # crude logic: improve with regex, LLM, or LangChain\n",
    "    for i in range(1, 10):\n",
    "        if f\"machine {i}\" in nl_query.lower():\n",
    "            return f\"machine_{i:02d}\"\n",
    "    return None\n"
   ]
  }
 ],
 "metadata": {
  "kernelspec": {
   "display_name": "Python 3 (ipykernel)",
   "language": "python",
   "name": "python3"
  },
  "language_info": {
   "codemirror_mode": {
    "name": "ipython",
    "version": 3
   },
   "file_extension": ".py",
   "mimetype": "text/x-python",
   "name": "python",
   "nbconvert_exporter": "python",
   "pygments_lexer": "ipython3",
   "version": "3.9.20"
  }
 },
 "nbformat": 4,
 "nbformat_minor": 5
}
