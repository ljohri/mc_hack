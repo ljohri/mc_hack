{
 "cells": [
  {
   "cell_type": "code",
   "execution_count": null,
   "id": "88a4f581-da36-45a3-bfbf-496f58b293c3",
   "metadata": {},
   "outputs": [],
   "source": [
    "import openai\n",
    "import requests\n",
    "\n",
    "openai.api_key = \"your-api-key\"\n",
    "\n",
    "def nl_to_sql(query, machine_id):\n",
    "    prompt = f\"\"\"\n",
    "    Convert the following English query into an SQLite SQL statement for Machine {machine_id}:\n",
    "    \"{query}\"\n",
    "    The table 'measurements' has columns: timestamp, step_id, value, mean, variance.\n",
    "    \"\"\"\n",
    "    response = openai.Completion.create(\n",
    "        engine=\"text-davinci-003\",\n",
    "        prompt=prompt,\n",
    "        max_tokens=150\n",
    "    )\n",
    "    sql = response.choices[0].text.strip()\n",
    "    return sql\n",
    "\n",
    "def query_mcp(machine_id, nl_query):\n",
    "    sql = nl_to_sql(nl_query, machine_id)\n",
    "    response = requests.post(\n",
    "        f\"http://localhost:{8000 + int(machine_id[-2:])}/query\",\n",
    "        json={\"sql\": sql}\n",
    "    )\n",
    "    return response.json()\n"
   ]
  }
 ],
 "metadata": {
  "kernelspec": {
   "display_name": "Python 3 (ipykernel)",
   "language": "python",
   "name": "python3"
  },
  "language_info": {
   "codemirror_mode": {
    "name": "ipython",
    "version": 3
   },
   "file_extension": ".py",
   "mimetype": "text/x-python",
   "name": "python",
   "nbconvert_exporter": "python",
   "pygments_lexer": "ipython3",
   "version": "3.9.20"
  }
 },
 "nbformat": 4,
 "nbformat_minor": 5
}
